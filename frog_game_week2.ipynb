{
  "nbformat": 4,
  "nbformat_minor": 0,
  "metadata": {
    "colab": {
      "provenance": []
    },
    "kernelspec": {
      "name": "python3",
      "display_name": "Python 3"
    },
    "language_info": {
      "name": "python"
    }
  },
  "cells": [
    {
      "cell_type": "code",
      "source": [
        "positions=['B','B','B','-','G','G','G']\n",
        "print(positions)"
      ],
      "metadata": {
        "colab": {
          "base_uri": "https://localhost:8080/"
        },
        "id": "-fY-sJK8EqMH",
        "outputId": "ff98cc9a-d0d5-4a41-b776-5f4468e02cc4"
      },
      "execution_count": 4,
      "outputs": [
        {
          "output_type": "stream",
          "name": "stdout",
          "text": [
            "['B', 'B', 'B', '-', 'G', 'G', 'G']\n"
          ]
        }
      ]
    },
    {
      "cell_type": "code",
      "source": [
        "print(\"Alawys enter number less than 7 \\n \")\n",
        "print(\"[0  ,   1,   2,   3,   4,   5,   6]\")\n",
        "print(positions)"
      ],
      "metadata": {
        "colab": {
          "base_uri": "https://localhost:8080/"
        },
        "id": "WRLLMU1nGHdI",
        "outputId": "37f4be83-3398-4f4a-9878-acc5ae0ed42a"
      },
      "execution_count": 5,
      "outputs": [
        {
          "output_type": "stream",
          "name": "stdout",
          "text": [
            "Alawys enter number less than 7 \n",
            " \n",
            "[0  ,   1,   2,   3,   4,   5,   6]\n",
            "['B', 'B', 'B', '-', 'G', 'G', 'G']\n"
          ]
        }
      ]
    },
    {
      "cell_type": "code",
      "source": [
        "pos=input(\"Press q to quit or \\nEnter the position of piece\")"
      ],
      "metadata": {
        "id": "yyt_ymg2HlvY"
      },
      "execution_count": null,
      "outputs": []
    },
    {
      "cell_type": "code",
      "source": [
        "if pos==q:\n",
        "  print(\"You Loose\")"
      ],
      "metadata": {
        "id": "VhSQiYEaIFqz"
      },
      "execution_count": null,
      "outputs": []
    },
    {
      "cell_type": "code",
      "source": [
        "pos=int(input())"
      ],
      "metadata": {
        "colab": {
          "base_uri": "https://localhost:8080/"
        },
        "id": "OuDqPbwoKgbh",
        "outputId": "b19a1d5b-bf7e-4f30-ea0f-7af24bdd21d0"
      },
      "execution_count": 11,
      "outputs": [
        {
          "name": "stdout",
          "output_type": "stream",
          "text": [
            "3\n"
          ]
        }
      ]
    },
    {
      "cell_type": "code",
      "source": [
        "if pos<0 or pos>6:\n",
        "  print(\"\\n Invalid Move\")"
      ],
      "metadata": {
        "id": "CuRysVUCKjcJ"
      },
      "execution_count": 8,
      "outputs": []
    },
    {
      "cell_type": "code",
      "source": [
        "if positions[pos]=='-':\n",
        "  print(\"\\nInvalid Move\")"
      ],
      "metadata": {
        "colab": {
          "base_uri": "https://localhost:8080/"
        },
        "id": "rN0hYUgjK869",
        "outputId": "47c458cc-a887-437d-938f-358aaf704dd7"
      },
      "execution_count": 14,
      "outputs": [
        {
          "output_type": "stream",
          "name": "stdout",
          "text": [
            "3\n",
            "\n",
            "Invalid Move\n"
          ]
        }
      ]
    },
    {
      "cell_type": "code",
      "source": [
        "pos2=0\n",
        "positions=['B','B','B','-','G','G','G']\n",
        "for i in range (len(positions)):\n",
        "  if positions[i]=='-':\n",
        "    pos2=i\n",
        "print(\"pos2=\",pos2)"
      ],
      "metadata": {
        "id": "lC0c5scfOfw7",
        "colab": {
          "base_uri": "https://localhost:8080/"
        },
        "outputId": "de22dbd3-28c0-40c6-8247-8b6e3ee0dc47"
      },
      "execution_count": 21,
      "outputs": [
        {
          "output_type": "stream",
          "name": "stdout",
          "text": [
            "pos2= 3\n"
          ]
        }
      ]
    },
    {
      "cell_type": "code",
      "source": [
        "if positions[pos]=='B':\n",
        "  if (pos+1) <=6 or (pos2+1)<=6:\n",
        "    print(\"\\n Its a valid move\")\n",
        "    pos=pos2\n",
        "  elif (pos+2)<=6 or (pos+2)<=6:\n",
        "    print(\"\\n Its a valid move\")\n",
        "    pos=pos2\n",
        "  else:\n",
        "    print(\"\\n its an invalid move\")"
      ],
      "metadata": {
        "id": "R_uglyClhlay"
      },
      "execution_count": null,
      "outputs": []
    },
    {
      "cell_type": "code",
      "source": [
        "if positions[pos]=='G':\n",
        "  if (pos-1) <=0 or (pos2-1)<06:\n",
        "    print(\"\\n Its a valid move\")\n",
        "    pos=pos2\n",
        "  elif (pos-2)<=0 or (pos-2)<=0:\n",
        "    print(\"\\n Its a valid move\")\n",
        "    pos=pos2\n",
        "  else:\n",
        "    print(\"\\n its an invalid move\")"
      ],
      "metadata": {
        "id": "wvjEysrAmzIh"
      },
      "execution_count": null,
      "outputs": []
    },
    {
      "cell_type": "code",
      "source": [
        "positions[pos],positions[pos2]=positions[pos2],positions[pos]"
      ],
      "metadata": {
        "id": "T4HA-HldnOpM"
      },
      "execution_count": 23,
      "outputs": []
    },
    {
      "cell_type": "code",
      "source": [
        "print(positions):"
      ],
      "metadata": {
        "id": "N8Wjqj6nohbd"
      },
      "execution_count": null,
      "outputs": []
    },
    {
      "cell_type": "code",
      "source": [
        "if positions==positions[::-1]:\n",
        "  print(\"\\n YOU WIN\")"
      ],
      "metadata": {
        "id": "DT2lRyr-opQF"
      },
      "execution_count": 25,
      "outputs": []
    },
    {
      "cell_type": "code",
      "source": [
        "positions=['B','B','B','-','G','G','G']\n",
        "print(\"[0  ,   1,   2,   3,   4,   5,   6]\")\n",
        "print(positions)\n",
        "position1=positions.copy()\n",
        "while True:\n",
        "\n",
        "  print(\"\\nAlawys enter number less than 7\")\n",
        "  print(\"[0  ,   1,   2,   3,   4,   5,   6]\")\n",
        "  print(position1)\n",
        "  if position1 == positions[::-1]:\n",
        "    print(\"\\n YOU WIN\")\n",
        "    break\n",
        "  pos1=input(\"Press q to quit or \\nEnter the position of piece\")\n",
        "  print(\"pos=\",pos1)\n",
        "  if pos1.lower()=='q':\n",
        "    print(\"\\nYou Loose\")\n",
        "    break\n",
        "  pos= int(pos1)\n",
        "  if pos<0 or pos>6:\n",
        "    print(\"\\n Invalid Move\")\n",
        "    break\n",
        "  if position1[pos]=='-':\n",
        "    print(\"\\nInvalid Move\")\n",
        "    break\n",
        "  pos2=0\n",
        "  for i in range (len(positions)):\n",
        "    if position1[i]=='-':\n",
        "      pos2=i\n",
        "      print(\"pos2=\",pos2)\n",
        "      break\n",
        "  if position1[pos]=='B':\n",
        "    if (pos+1) <=6 or (pos2+1)<=6:\n",
        "      print(\"\\n Its a valid move\")\n",
        "      position1[pos],position1[pos2]=position1[pos2],position1[pos]\n",
        "      pos=pos2\n",
        "      continue\n",
        "    elif (pos+2)<=6 or (pos+2)<=6:\n",
        "      print(\"\\n Its a valid move\")\n",
        "      position1[pos],position1[pos2]=position1[pos2],position1[pos]\n",
        "      pos=pos2\n",
        "      continue\n",
        "    else:\n",
        "      print(\"\\n its an invalid move\")\n",
        "      break\n",
        "  if position1[pos]=='G':\n",
        "    if (pos-1) >=0 or (pos2-1)>=0:\n",
        "      print(\"\\n Its a valid move\")\n",
        "      position1[pos],position1[pos2]=position1[pos2],position1[pos]\n",
        "      pos=pos2\n",
        "      continue\n",
        "    elif (pos-2)>=0 or (pos2-2)>=0:\n",
        "      print(\"\\n Its a valid move\")\n",
        "      position1[pos],position1[pos2]=position1[pos2],position1[pos]\n",
        "      pos=pos2\n",
        "      continue\n",
        "    else:\n",
        "      print(\"\\n its an invalid move\")\n",
        "      break\n"
      ],
      "metadata": {
        "colab": {
          "base_uri": "https://localhost:8080/"
        },
        "id": "dMacTcx_plCK",
        "outputId": "f5ad4ade-f84d-4c0a-8144-23dc924b3dd4"
      },
      "execution_count": 36,
      "outputs": [
        {
          "output_type": "stream",
          "name": "stdout",
          "text": [
            "[0  ,   1,   2,   3,   4,   5,   6]\n",
            "['B', 'B', 'B', '-', 'G', 'G', 'G']\n",
            "\n",
            "Alawys enter number less than 7\n",
            "[0  ,   1,   2,   3,   4,   5,   6]\n",
            "['B', 'B', 'B', '-', 'G', 'G', 'G']\n",
            "Press q to quit or \n",
            "Enter the position of piece4\n",
            "pos= 4\n",
            "pos2= 3\n",
            "\n",
            " Its a valid move\n",
            "\n",
            "Alawys enter number less than 7\n",
            "[0  ,   1,   2,   3,   4,   5,   6]\n",
            "['B', 'B', 'B', 'G', '-', 'G', 'G']\n",
            "Press q to quit or \n",
            "Enter the position of piece2\n",
            "pos= 2\n",
            "pos2= 4\n",
            "\n",
            " Its a valid move\n",
            "\n",
            "Alawys enter number less than 7\n",
            "[0  ,   1,   2,   3,   4,   5,   6]\n",
            "['B', 'B', '-', 'G', 'B', 'G', 'G']\n",
            "Press q to quit or \n",
            "Enter the position of piece1\n",
            "pos= 1\n",
            "pos2= 2\n",
            "\n",
            " Its a valid move\n",
            "\n",
            "Alawys enter number less than 7\n",
            "[0  ,   1,   2,   3,   4,   5,   6]\n",
            "['B', '-', 'B', 'G', 'B', 'G', 'G']\n",
            "Press q to quit or \n",
            "Enter the position of piece3\n",
            "pos= 3\n",
            "pos2= 1\n",
            "\n",
            " Its a valid move\n",
            "\n",
            "Alawys enter number less than 7\n",
            "[0  ,   1,   2,   3,   4,   5,   6]\n",
            "['B', 'G', 'B', '-', 'B', 'G', 'G']\n",
            "Press q to quit or \n",
            "Enter the position of piece5\n",
            "pos= 5\n",
            "pos2= 3\n",
            "\n",
            " Its a valid move\n",
            "\n",
            "Alawys enter number less than 7\n",
            "[0  ,   1,   2,   3,   4,   5,   6]\n",
            "['B', 'G', 'B', 'G', 'B', '-', 'G']\n",
            "Press q to quit or \n",
            "Enter the position of piece6\n",
            "pos= 6\n",
            "pos2= 5\n",
            "\n",
            " Its a valid move\n",
            "\n",
            "Alawys enter number less than 7\n",
            "[0  ,   1,   2,   3,   4,   5,   6]\n",
            "['B', 'G', 'B', 'G', 'B', 'G', '-']\n",
            "Press q to quit or \n",
            "Enter the position of piece4\n",
            "pos= 4\n",
            "pos2= 6\n",
            "\n",
            " Its a valid move\n",
            "\n",
            "Alawys enter number less than 7\n",
            "[0  ,   1,   2,   3,   4,   5,   6]\n",
            "['B', 'G', 'B', 'G', '-', 'G', 'B']\n",
            "Press q to quit or \n",
            "Enter the position of piece2\n",
            "pos= 2\n",
            "pos2= 4\n",
            "\n",
            " Its a valid move\n",
            "\n",
            "Alawys enter number less than 7\n",
            "[0  ,   1,   2,   3,   4,   5,   6]\n",
            "['B', 'G', '-', 'G', 'B', 'G', 'B']\n",
            "Press q to quit or \n",
            "Enter the position of piece0\n",
            "pos= 0\n",
            "pos2= 2\n",
            "\n",
            " Its a valid move\n",
            "\n",
            "Alawys enter number less than 7\n",
            "[0  ,   1,   2,   3,   4,   5,   6]\n",
            "['-', 'G', 'B', 'G', 'B', 'G', 'B']\n",
            "Press q to quit or \n",
            "Enter the position of piece1\n",
            "pos= 1\n",
            "pos2= 0\n",
            "\n",
            " Its a valid move\n",
            "\n",
            "Alawys enter number less than 7\n",
            "[0  ,   1,   2,   3,   4,   5,   6]\n",
            "['G', '-', 'B', 'G', 'B', 'G', 'B']\n",
            "Press q to quit or \n",
            "Enter the position of piece3\n",
            "pos= 3\n",
            "pos2= 1\n",
            "\n",
            " Its a valid move\n",
            "\n",
            "Alawys enter number less than 7\n",
            "[0  ,   1,   2,   3,   4,   5,   6]\n",
            "['G', 'G', 'B', '-', 'B', 'G', 'B']\n",
            "Press q to quit or \n",
            "Enter the position of piece5\n",
            "pos= 5\n",
            "pos2= 3\n",
            "\n",
            " Its a valid move\n",
            "\n",
            "Alawys enter number less than 7\n",
            "[0  ,   1,   2,   3,   4,   5,   6]\n",
            "['G', 'G', 'B', 'G', 'B', '-', 'B']\n",
            "Press q to quit or \n",
            "Enter the position of piece4\n",
            "pos= 4\n",
            "pos2= 5\n",
            "\n",
            " Its a valid move\n",
            "\n",
            "Alawys enter number less than 7\n",
            "[0  ,   1,   2,   3,   4,   5,   6]\n",
            "['G', 'G', 'B', 'G', '-', 'B', 'B']\n",
            "Press q to quit or \n",
            "Enter the position of piece2\n",
            "pos= 2\n",
            "pos2= 4\n",
            "\n",
            " Its a valid move\n",
            "\n",
            "Alawys enter number less than 7\n",
            "[0  ,   1,   2,   3,   4,   5,   6]\n",
            "['G', 'G', '-', 'G', 'B', 'B', 'B']\n",
            "Press q to quit or \n",
            "Enter the position of piece3\n",
            "pos= 3\n",
            "pos2= 2\n",
            "\n",
            " Its a valid move\n",
            "\n",
            "Alawys enter number less than 7\n",
            "[0  ,   1,   2,   3,   4,   5,   6]\n",
            "['G', 'G', 'G', '-', 'B', 'B', 'B']\n",
            "\n",
            " YOU WIN\n"
          ]
        }
      ]
    },
    {
      "cell_type": "code",
      "source": [],
      "metadata": {
        "id": "Mz62XdJxSorj"
      },
      "execution_count": null,
      "outputs": []
    }
  ]
}